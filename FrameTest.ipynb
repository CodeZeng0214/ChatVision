{
 "cells": [
  {
   "cell_type": "markdown",
   "metadata": {},
   "source": [
    "YOLO_Deepsort模块化测试"
   ]
  },
  {
   "cell_type": "code",
   "execution_count": 28,
   "metadata": {},
   "outputs": [
    {
     "ename": "TypeError",
     "evalue": "__init__() takes 1 positional argument but 2 were given",
     "output_type": "error",
     "traceback": [
      "\u001b[1;31m---------------------------------------------------------------------------\u001b[0m",
      "\u001b[1;31mTypeError\u001b[0m                                 Traceback (most recent call last)",
      "Cell \u001b[1;32mIn[28], line 11\u001b[0m\n\u001b[0;32m      9\u001b[0m params \u001b[38;5;241m=\u001b[39m{}\n\u001b[0;32m     10\u001b[0m params[\u001b[38;5;124m'\u001b[39m\u001b[38;5;124mimage_path\u001b[39m\u001b[38;5;124m'\u001b[39m] \u001b[38;5;241m=\u001b[39m \u001b[38;5;124m\"\u001b[39m\u001b[38;5;124mD:\u001b[39m\u001b[38;5;124m\\\u001b[39m\u001b[38;5;124mCode\u001b[39m\u001b[38;5;124m\\\u001b[39m\u001b[38;5;124mYOLO_correlation\u001b[39m\u001b[38;5;124m\\\u001b[39m\u001b[38;5;124mChatYOLO\u001b[39m\u001b[38;5;124m\\\u001b[39m\u001b[38;5;124mmodules\u001b[39m\u001b[38;5;124m\\\u001b[39m\u001b[38;5;124mYOLODeepsort\u001b[39m\u001b[38;5;130;01m\\\\\u001b[39;00m\u001b[38;5;124mvideo\u001b[39m\u001b[38;5;130;01m\\\\\u001b[39;00m\u001b[38;5;124mtest_person.mp4\u001b[39m\u001b[38;5;124m\"\u001b[39m\n\u001b[1;32m---> 11\u001b[0m \u001b[43mPedCarTrack\u001b[49m\u001b[43m(\u001b[49m\u001b[43mparams\u001b[49m\u001b[43m)\u001b[49m\n",
      "File \u001b[1;32md:\\Code\\YOLO_correlation\\ChatYOLO\\modules\\YOLODeepsort\\YOLO_Deepsort.py:50\u001b[0m, in \u001b[0;36mPedCarTrack\u001b[1;34m(params)\u001b[0m\n\u001b[0;32m     47\u001b[0m \u001b[38;5;66;03m# Close the video capture\u001b[39;00m\n\u001b[0;32m     48\u001b[0m video_capture\u001b[38;5;241m.\u001b[39mrelease()\n\u001b[1;32m---> 50\u001b[0m detector \u001b[38;5;241m=\u001b[39m \u001b[43mDetector\u001b[49m\u001b[43m(\u001b[49m\u001b[43mweight_path\u001b[49m\u001b[43m)\u001b[49m\n\u001b[0;32m     51\u001b[0m video_capture \u001b[38;5;241m=\u001b[39m cv2\u001b[38;5;241m.\u001b[39mVideoCapture(video_capture)\n\u001b[0;32m     52\u001b[0m videoWriter \u001b[38;5;241m=\u001b[39m \u001b[38;5;28;01mNone\u001b[39;00m\n",
      "\u001b[1;31mTypeError\u001b[0m: __init__() takes 1 positional argument but 2 were given"
     ]
    }
   ],
   "source": [
    "import sys\n",
    "import os\n",
    "# 获取当前脚本所在目录\n",
    "current_dir = os.path.dirname(os.path.abspath('./modules/YOLODeepsort/YOLO_Deepsort.py'))\n",
    "# 将modules和脚本所在目录路径添加到sys.path\n",
    "sys.path.append(current_dir)\n",
    "#print(sys.path)\n",
    "from modules.YOLODeepsort.YOLO_Deepsort import PedCarTrack\n",
    "params ={}\n",
    "params['image_path'] = \"D:\\Code\\YOLO_correlation\\ChatYOLO\\modules\\YOLODeepsort\\\\video\\\\test_person.mp4\"\n",
    "PedCarTrack(params)"
   ]
  },
  {
   "cell_type": "markdown",
   "metadata": {},
   "source": []
  },
  {
   "cell_type": "markdown",
   "metadata": {},
   "source": [
    "BILP模型测试"
   ]
  },
  {
   "cell_type": "code",
   "execution_count": 1,
   "metadata": {},
   "outputs": [
    {
     "ename": "SyntaxError",
     "evalue": "invalid syntax (1138050846.py, line 3)",
     "output_type": "error",
     "traceback": [
      "\u001b[1;36m  Cell \u001b[1;32mIn[1], line 3\u001b[1;36m\u001b[0m\n\u001b[1;33m    huggingface-cli download --resume-download Salesforce/blip2-opt-2.7b --local-dir './'\u001b[0m\n\u001b[1;37m                    ^\u001b[0m\n\u001b[1;31mSyntaxError\u001b[0m\u001b[1;31m:\u001b[0m invalid syntax\n"
     ]
    }
   ],
   "source": [
    "# Load model directly\n",
    "from transformers import AutoProcessor, AutoModelForVisualQuestionAnswering\n",
    "huggingface-cli download --resume-download Salesforce/blip2-opt-2.7b --local-dir './'\n",
    "\n",
    "processor = AutoProcessor.from_pretrained(\"Salesforce/blip2-opt-2.7b\")\n",
    "model = AutoModelForVisualQuestionAnswering.from_pretrained(\"Salesforce/blip2-opt-2.7b\")"
   ]
  }
 ],
 "metadata": {
  "kernelspec": {
   "display_name": "YOLOv8",
   "language": "python",
   "name": "python3"
  },
  "language_info": {
   "codemirror_mode": {
    "name": "ipython",
    "version": 3
   },
   "file_extension": ".py",
   "mimetype": "text/x-python",
   "name": "python",
   "nbconvert_exporter": "python",
   "pygments_lexer": "ipython3",
   "version": "3.9.20"
  }
 },
 "nbformat": 4,
 "nbformat_minor": 2
}
