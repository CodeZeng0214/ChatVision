{
 "cells": [
  {
   "cell_type": "code",
   "execution_count": 5,
   "metadata": {},
   "outputs": [],
   "source": [
    "from openai import OpenAI\n",
    "from AuxiliaryFunction import ExtractStrBetween\n",
    "from ultralytics import YOLO\n",
    "from Robots import ChatRobot"
   ]
  },
  {
   "cell_type": "code",
   "execution_count": 6,
   "metadata": {},
   "outputs": [],
   "source": [
    "BASE_URL = \"https://api.chatanywhere.tech/v1\" # 默认语义大模型网站\n",
    "API_KEY = \"sk-AencKA6Oy7WnhukWgquDlbis89fhQ5q4Nz8ba4BvYJUjy8LR\" # 默认网站密钥\n",
    "GPT_MODEL = 'gpt-4o-mini' # 默认GPT模型\n",
    "IOD_WEI_PATH = './/weights//YOLOv8//yolov8m.pt' # 默认的图像检测类任务的权重路径"
   ]
  },
  {
   "cell_type": "code",
   "execution_count": null,
   "metadata": {},
   "outputs": [],
   "source": []
  }
 ],
 "metadata": {
  "kernelspec": {
   "display_name": "YOLOv8",
   "language": "python",
   "name": "python3"
  },
  "language_info": {
   "codemirror_mode": {
    "name": "ipython",
    "version": 3
   },
   "file_extension": ".py",
   "mimetype": "text/x-python",
   "name": "python",
   "nbconvert_exporter": "python",
   "pygments_lexer": "ipython3",
   "version": "3.9.20"
  }
 },
 "nbformat": 4,
 "nbformat_minor": 2
}
